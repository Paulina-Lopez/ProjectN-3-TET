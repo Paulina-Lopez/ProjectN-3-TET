{
  "nbformat": 4,
  "nbformat_minor": 0,
  "metadata": {
    "colab": {
      "provenance": [],
      "authorship_tag": "ABX9TyMGoeIFSZRbV/2ES5qTOgX0",
      "include_colab_link": true
    },
    "kernelspec": {
      "name": "python3",
      "display_name": "Python 3"
    },
    "language_info": {
      "name": "python"
    }
  },
  "cells": [
    {
      "cell_type": "markdown",
      "metadata": {
        "id": "view-in-github",
        "colab_type": "text"
      },
      "source": [
        "<a href=\"https://colab.research.google.com/github/Paulina-Lopez/ProjectN-3-TET/blob/main/ProjectN%C2%B03-TET.ipynb\" target=\"_parent\"><img src=\"https://colab.research.google.com/assets/colab-badge.svg\" alt=\"Open In Colab\"/></a>"
      ]
    },
    {
      "cell_type": "code",
      "execution_count": 1,
      "metadata": {
        "colab": {
          "base_uri": "https://localhost:8080/"
        },
        "id": "bU2o9beaJSkR",
        "outputId": "66150a35-6a6e-4511-eeb3-1864d401cad4"
      },
      "outputs": [
        {
          "output_type": "stream",
          "name": "stdout",
          "text": [
            "/content\n"
          ]
        }
      ],
      "source": [
        "!pwd"
      ]
    },
    {
      "cell_type": "code",
      "source": [
        "!pip install spark\n",
        "!pip install pyspark\n",
        "!pip install boto3"
      ],
      "metadata": {
        "colab": {
          "base_uri": "https://localhost:8080/"
        },
        "id": "Af6iIduIJV_9",
        "outputId": "14dc518d-ce2a-418b-eaed-5c2c518c632f"
      },
      "execution_count": 2,
      "outputs": [
        {
          "output_type": "stream",
          "name": "stdout",
          "text": [
            "Collecting spark\n",
            "  Downloading spark-0.2.1.tar.gz (41 kB)\n",
            "\u001b[2K     \u001b[90m━━━━━━━━━━━━━━━━━━━━━━━━━━━━━━━━━━━━━━━━\u001b[0m \u001b[32m41.0/41.0 kB\u001b[0m \u001b[31m554.7 kB/s\u001b[0m eta \u001b[36m0:00:00\u001b[0m\n",
            "\u001b[?25h  Preparing metadata (setup.py) ... \u001b[?25l\u001b[?25hdone\n",
            "Building wheels for collected packages: spark\n",
            "  Building wheel for spark (setup.py) ... \u001b[?25l\u001b[?25hdone\n",
            "  Created wheel for spark: filename=spark-0.2.1-py3-none-any.whl size=58749 sha256=c8fe43089af5db3c6f7dff803df1fed32de2227d8051aff3547c274449bf7b06\n",
            "  Stored in directory: /root/.cache/pip/wheels/63/88/77/b4131110ea4094540f7b47c6d62a649807d7e94800da5eab0b\n",
            "Successfully built spark\n",
            "Installing collected packages: spark\n",
            "Successfully installed spark-0.2.1\n",
            "Collecting pyspark\n",
            "  Downloading pyspark-3.5.1.tar.gz (317.0 MB)\n",
            "\u001b[2K     \u001b[90m━━━━━━━━━━━━━━━━━━━━━━━━━━━━━━━━━━━━━━━━\u001b[0m \u001b[32m317.0/317.0 MB\u001b[0m \u001b[31m4.0 MB/s\u001b[0m eta \u001b[36m0:00:00\u001b[0m\n",
            "\u001b[?25h  Preparing metadata (setup.py) ... \u001b[?25l\u001b[?25hdone\n",
            "Requirement already satisfied: py4j==0.10.9.7 in /usr/local/lib/python3.10/dist-packages (from pyspark) (0.10.9.7)\n",
            "Building wheels for collected packages: pyspark\n",
            "  Building wheel for pyspark (setup.py) ... \u001b[?25l\u001b[?25hdone\n",
            "  Created wheel for pyspark: filename=pyspark-3.5.1-py2.py3-none-any.whl size=317488491 sha256=393a6abfbcbda66698d012959c594c3fc42aef6bbc9b53b2bb5b3c50b20f5d2b\n",
            "  Stored in directory: /root/.cache/pip/wheels/80/1d/60/2c256ed38dddce2fdd93be545214a63e02fbd8d74fb0b7f3a6\n",
            "Successfully built pyspark\n",
            "Installing collected packages: pyspark\n",
            "Successfully installed pyspark-3.5.1\n",
            "Collecting boto3\n",
            "  Downloading boto3-1.34.117-py3-none-any.whl (139 kB)\n",
            "\u001b[2K     \u001b[90m━━━━━━━━━━━━━━━━━━━━━━━━━━━━━━━━━━━━━━━━\u001b[0m \u001b[32m139.3/139.3 kB\u001b[0m \u001b[31m1.5 MB/s\u001b[0m eta \u001b[36m0:00:00\u001b[0m\n",
            "\u001b[?25hCollecting botocore<1.35.0,>=1.34.117 (from boto3)\n",
            "  Downloading botocore-1.34.117-py3-none-any.whl (12.3 MB)\n",
            "\u001b[2K     \u001b[90m━━━━━━━━━━━━━━━━━━━━━━━━━━━━━━━━━━━━━━━━\u001b[0m \u001b[32m12.3/12.3 MB\u001b[0m \u001b[31m51.4 MB/s\u001b[0m eta \u001b[36m0:00:00\u001b[0m\n",
            "\u001b[?25hCollecting jmespath<2.0.0,>=0.7.1 (from boto3)\n",
            "  Downloading jmespath-1.0.1-py3-none-any.whl (20 kB)\n",
            "Collecting s3transfer<0.11.0,>=0.10.0 (from boto3)\n",
            "  Downloading s3transfer-0.10.1-py3-none-any.whl (82 kB)\n",
            "\u001b[2K     \u001b[90m━━━━━━━━━━━━━━━━━━━━━━━━━━━━━━━━━━━━━━━━\u001b[0m \u001b[32m82.2/82.2 kB\u001b[0m \u001b[31m7.8 MB/s\u001b[0m eta \u001b[36m0:00:00\u001b[0m\n",
            "\u001b[?25hRequirement already satisfied: python-dateutil<3.0.0,>=2.1 in /usr/local/lib/python3.10/dist-packages (from botocore<1.35.0,>=1.34.117->boto3) (2.8.2)\n",
            "Requirement already satisfied: urllib3!=2.2.0,<3,>=1.25.4 in /usr/local/lib/python3.10/dist-packages (from botocore<1.35.0,>=1.34.117->boto3) (2.0.7)\n",
            "Requirement already satisfied: six>=1.5 in /usr/local/lib/python3.10/dist-packages (from python-dateutil<3.0.0,>=2.1->botocore<1.35.0,>=1.34.117->boto3) (1.16.0)\n",
            "Installing collected packages: jmespath, botocore, s3transfer, boto3\n",
            "Successfully installed boto3-1.34.117 botocore-1.34.117 jmespath-1.0.1 s3transfer-0.10.1\n"
          ]
        }
      ]
    },
    {
      "cell_type": "markdown",
      "source": [],
      "metadata": {
        "id": "7nMHKg0VJVxN"
      }
    },
    {
      "cell_type": "code",
      "source": [
        "from pyspark.sql import SparkSession"
      ],
      "metadata": {
        "id": "_6-Os7F_JWCq"
      },
      "execution_count": 3,
      "outputs": []
    },
    {
      "cell_type": "code",
      "source": [
        "spark=SparkSession.builder.appName('data_processing').getOrCreate()"
      ],
      "metadata": {
        "id": "zqgE33gTJWFN"
      },
      "execution_count": 4,
      "outputs": []
    },
    {
      "cell_type": "code",
      "source": [
        "from google.colab import drive\n",
        "drive.mount('/content/gdrive')"
      ],
      "metadata": {
        "colab": {
          "base_uri": "https://localhost:8080/"
        },
        "id": "em_jRVuJJWKP",
        "outputId": "29853894-5a2d-404a-f96c-d3512ab006b0"
      },
      "execution_count": 5,
      "outputs": [
        {
          "output_type": "stream",
          "name": "stdout",
          "text": [
            "Mounted at /content/gdrive\n"
          ]
        }
      ]
    },
    {
      "cell_type": "code",
      "source": [
        "df = spark.read.csv('/content/gdrive/MyDrive/mplopezs-tet/bigdata/Casos_positivos_de_COVID-19_en_Colombia-100K.csv', inferSchema=True, header=True)"
      ],
      "metadata": {
        "id": "nBR2M98lJWHt"
      },
      "execution_count": 6,
      "outputs": []
    },
    {
      "cell_type": "code",
      "source": [
        "df.columns"
      ],
      "metadata": {
        "colab": {
          "base_uri": "https://localhost:8080/"
        },
        "id": "w-nY8nIEJhWp",
        "outputId": "7f1b74f6-d81b-4f3a-b3bd-051339a77663"
      },
      "execution_count": 10,
      "outputs": [
        {
          "output_type": "execute_result",
          "data": {
            "text/plain": [
              "['fecha reporte web',\n",
              " 'ID de caso',\n",
              " 'Fecha de notificación',\n",
              " 'Código DIVIPOLA departamento',\n",
              " 'Nombre departamento',\n",
              " 'Código DIVIPOLA municipio',\n",
              " 'Nombre municipio',\n",
              " 'Edad',\n",
              " 'Unidad de medida de edad',\n",
              " 'Sexo',\n",
              " 'Tipo de contagio',\n",
              " 'Ubicación del caso',\n",
              " 'Estado',\n",
              " 'Código ISO del país',\n",
              " 'Nombre del país',\n",
              " 'Recuperado',\n",
              " 'Fecha de inicio de síntomas',\n",
              " 'Fecha de muerte',\n",
              " 'Fecha de diagnóstico',\n",
              " 'Fecha de recuperación',\n",
              " 'Tipo de recuperación',\n",
              " 'Pertenencia étnica',\n",
              " 'Nombre del grupo étnico']"
            ]
          },
          "metadata": {},
          "execution_count": 10
        }
      ]
    },
    {
      "cell_type": "code",
      "source": [
        "df.printSchema()"
      ],
      "metadata": {
        "colab": {
          "base_uri": "https://localhost:8080/"
        },
        "id": "-fDGCBK2KXep",
        "outputId": "d8dbbbf9-6ed1-402c-950f-91b0b19c376d"
      },
      "execution_count": 11,
      "outputs": [
        {
          "output_type": "stream",
          "name": "stdout",
          "text": [
            "root\n",
            " |-- fecha reporte web: string (nullable = true)\n",
            " |-- ID de caso: integer (nullable = true)\n",
            " |-- Fecha de notificación: string (nullable = true)\n",
            " |-- Código DIVIPOLA departamento: integer (nullable = true)\n",
            " |-- Nombre departamento: string (nullable = true)\n",
            " |-- Código DIVIPOLA municipio: integer (nullable = true)\n",
            " |-- Nombre municipio: string (nullable = true)\n",
            " |-- Edad: integer (nullable = true)\n",
            " |-- Unidad de medida de edad: integer (nullable = true)\n",
            " |-- Sexo: string (nullable = true)\n",
            " |-- Tipo de contagio: string (nullable = true)\n",
            " |-- Ubicación del caso: string (nullable = true)\n",
            " |-- Estado: string (nullable = true)\n",
            " |-- Código ISO del país: integer (nullable = true)\n",
            " |-- Nombre del país: string (nullable = true)\n",
            " |-- Recuperado: string (nullable = true)\n",
            " |-- Fecha de inicio de síntomas: string (nullable = true)\n",
            " |-- Fecha de muerte: string (nullable = true)\n",
            " |-- Fecha de diagnóstico: string (nullable = true)\n",
            " |-- Fecha de recuperación: string (nullable = true)\n",
            " |-- Tipo de recuperación: string (nullable = true)\n",
            " |-- Pertenencia étnica: integer (nullable = true)\n",
            " |-- Nombre del grupo étnico: string (nullable = true)\n",
            "\n"
          ]
        }
      ]
    },
    {
      "cell_type": "code",
      "source": [
        "df.show(5)"
      ],
      "metadata": {
        "colab": {
          "base_uri": "https://localhost:8080/"
        },
        "id": "sKNndGC1KXp0",
        "outputId": "d7c00a77-4ff1-43a5-8647-03fc75bb3c7a"
      },
      "execution_count": 14,
      "outputs": [
        {
          "output_type": "stream",
          "name": "stdout",
          "text": [
            "+-----------------+----------+---------------------+----------------------------+-------------------+-------------------------+----------------+----+------------------------+----+----------------+------------------+------+-------------------+---------------+----------+---------------------------+---------------+--------------------+---------------------+--------------------+------------------+-----------------------+\n",
            "|fecha reporte web|ID de caso|Fecha de notificación|Código DIVIPOLA departamento|Nombre departamento|Código DIVIPOLA municipio|Nombre municipio|Edad|Unidad de medida de edad|Sexo|Tipo de contagio|Ubicación del caso|Estado|Código ISO del país|Nombre del país|Recuperado|Fecha de inicio de síntomas|Fecha de muerte|Fecha de diagnóstico|Fecha de recuperación|Tipo de recuperación|Pertenencia étnica|Nombre del grupo étnico|\n",
            "+-----------------+----------+---------------------+----------------------------+-------------------+-------------------------+----------------+----+------------------------+----+----------------+------------------+------+-------------------+---------------+----------+---------------------------+---------------+--------------------+---------------------+--------------------+------------------+-----------------------+\n",
            "| 6/3/2020 0:00:00|         1|     2/3/2020 0:00:00|                          11|             BOGOTA|                    11001|          BOGOTA|  19|                       1|   F|       Importado|              Casa|  Leve|                380|         ITALIA|Recuperado|          27/2/2020 0:00:00|           NULL|    6/3/2020 0:00:00|    13/3/2020 0:00:00|                 PCR|                 6|                   NULL|\n",
            "| 9/3/2020 0:00:00|         2|     6/3/2020 0:00:00|                          76|              VALLE|                    76111|            BUGA|  34|                       1|   M|       Importado|              Casa|  Leve|                724|         ESPAÑA|Recuperado|           4/3/2020 0:00:00|           NULL|    9/3/2020 0:00:00|    19/3/2020 0:00:00|                 PCR|                 5|                   NULL|\n",
            "| 9/3/2020 0:00:00|         3|     7/3/2020 0:00:00|                           5|          ANTIOQUIA|                     5001|        MEDELLIN|  50|                       1|   F|       Importado|              Casa|  Leve|                724|         ESPAÑA|Recuperado|          29/2/2020 0:00:00|           NULL|    9/3/2020 0:00:00|    15/3/2020 0:00:00|                 PCR|                 6|                   NULL|\n",
            "|11/3/2020 0:00:00|         4|     9/3/2020 0:00:00|                           5|          ANTIOQUIA|                     5001|        MEDELLIN|  55|                       1|   M|     Relacionado|              Casa|  Leve|               NULL|           NULL|Recuperado|           6/3/2020 0:00:00|           NULL|   11/3/2020 0:00:00|    26/3/2020 0:00:00|                 PCR|                 6|                   NULL|\n",
            "|11/3/2020 0:00:00|         5|     9/3/2020 0:00:00|                           5|          ANTIOQUIA|                     5001|        MEDELLIN|  25|                       1|   M|     Relacionado|              Casa|  Leve|               NULL|           NULL|Recuperado|           8/3/2020 0:00:00|           NULL|   11/3/2020 0:00:00|    23/3/2020 0:00:00|                 PCR|                 6|                   NULL|\n",
            "+-----------------+----------+---------------------+----------------------------+-------------------+-------------------------+----------------+----+------------------------+----+----------------+------------------+------+-------------------+---------------+----------+---------------------------+---------------+--------------------+---------------------+--------------------+------------------+-----------------------+\n",
            "only showing top 5 rows\n",
            "\n"
          ]
        }
      ]
    },
    {
      "cell_type": "code",
      "source": [
        "df.select('Edad', 'Nombre municipio').show(5)"
      ],
      "metadata": {
        "colab": {
          "base_uri": "https://localhost:8080/"
        },
        "id": "2eezp5AgKXt8",
        "outputId": "a4b586c1-4354-456a-e582-f9d7bf78cb8e"
      },
      "execution_count": 15,
      "outputs": [
        {
          "output_type": "stream",
          "name": "stdout",
          "text": [
            "+----+----------------+\n",
            "|Edad|Nombre municipio|\n",
            "+----+----------------+\n",
            "|  19|          BOGOTA|\n",
            "|  34|            BUGA|\n",
            "|  50|        MEDELLIN|\n",
            "|  55|        MEDELLIN|\n",
            "|  25|        MEDELLIN|\n",
            "+----+----------------+\n",
            "only showing top 5 rows\n",
            "\n"
          ]
        }
      ]
    },
    {
      "cell_type": "code",
      "source": [
        "df = df.withColumnRenamed(\"ID de caso\", \"ID\")\n",
        "df = df.withColumnRenamed(\"fecha reporte web\", \"Fecha de reporte web\")\n",
        "df.columns"
      ],
      "metadata": {
        "colab": {
          "base_uri": "https://localhost:8080/"
        },
        "id": "39us00BXJhhc",
        "outputId": "250a7d56-6281-4dfe-d681-d469d7eaf7bc"
      },
      "execution_count": 17,
      "outputs": [
        {
          "output_type": "execute_result",
          "data": {
            "text/plain": [
              "['Fecha de reporte web',\n",
              " 'ID',\n",
              " 'Fecha de notificación',\n",
              " 'Código DIVIPOLA departamento',\n",
              " 'Nombre departamento',\n",
              " 'Código DIVIPOLA municipio',\n",
              " 'Nombre municipio',\n",
              " 'Edad',\n",
              " 'Unidad de medida de edad',\n",
              " 'Sexo',\n",
              " 'Tipo de contagio',\n",
              " 'Ubicación del caso',\n",
              " 'Estado',\n",
              " 'Código ISO del país',\n",
              " 'Nombre del país',\n",
              " 'Recuperado',\n",
              " 'Fecha de inicio de síntomas',\n",
              " 'Fecha de muerte',\n",
              " 'Fecha de diagnóstico',\n",
              " 'Fecha de recuperación',\n",
              " 'Tipo de recuperación',\n",
              " 'Pertenencia étnica',\n",
              " 'Nombre del grupo étnico']"
            ]
          },
          "metadata": {},
          "execution_count": 17
        }
      ]
    },
    {
      "cell_type": "code",
      "source": [
        "df = df.withColumn(\"Tiempo hasta diagnóstico\", (df[\"Fecha de diagnóstico\"] - df[\"Fecha de inicio de síntomas\"]))\n",
        "df.columns"
      ],
      "metadata": {
        "colab": {
          "base_uri": "https://localhost:8080/"
        },
        "id": "kkFAnmmULOcI",
        "outputId": "f2a0d5e8-ebcf-499e-d1fc-84b26d1e7f42"
      },
      "execution_count": 22,
      "outputs": [
        {
          "output_type": "execute_result",
          "data": {
            "text/plain": [
              "['Fecha de reporte web',\n",
              " 'ID',\n",
              " 'Fecha de notificación',\n",
              " 'Código DIVIPOLA departamento',\n",
              " 'Nombre departamento',\n",
              " 'Código DIVIPOLA municipio',\n",
              " 'Nombre municipio',\n",
              " 'Edad',\n",
              " 'Unidad de medida de edad',\n",
              " 'Sexo',\n",
              " 'Tipo de contagio',\n",
              " 'Ubicación del caso',\n",
              " 'Estado',\n",
              " 'Código ISO del país',\n",
              " 'Nombre del país',\n",
              " 'Recuperado',\n",
              " 'Fecha de inicio de síntomas',\n",
              " 'Fecha de muerte',\n",
              " 'Fecha de diagnóstico',\n",
              " 'Fecha de recuperación',\n",
              " 'Tipo de recuperación',\n",
              " 'Pertenencia étnica',\n",
              " 'Nombre del grupo étnico',\n",
              " 'Tiempo hasta diagnóstico']"
            ]
          },
          "metadata": {},
          "execution_count": 22
        }
      ]
    },
    {
      "cell_type": "code",
      "source": [
        "df = df.drop(\"Tiempo hasta diagnóstico\")"
      ],
      "metadata": {
        "id": "x5ue5r9eLOek"
      },
      "execution_count": 23,
      "outputs": []
    },
    {
      "cell_type": "code",
      "source": [
        "df.filter((df['Sexo']=='M')&(df['Edad']>50)).show()"
      ],
      "metadata": {
        "colab": {
          "base_uri": "https://localhost:8080/"
        },
        "id": "w9cGy5u1LOgz",
        "outputId": "3676550a-a45a-4d56-a7e9-c5644734248e"
      },
      "execution_count": 24,
      "outputs": [
        {
          "output_type": "stream",
          "name": "stdout",
          "text": [
            "+--------------------+---+---------------------+----------------------------+-------------------+-------------------------+----------------+----+------------------------+----+----------------+------------------+------+-------------------+--------------------+----------+---------------------------+---------------+--------------------+---------------------+--------------------+------------------+-----------------------+\n",
            "|Fecha de reporte web| ID|Fecha de notificación|Código DIVIPOLA departamento|Nombre departamento|Código DIVIPOLA municipio|Nombre municipio|Edad|Unidad de medida de edad|Sexo|Tipo de contagio|Ubicación del caso|Estado|Código ISO del país|     Nombre del país|Recuperado|Fecha de inicio de síntomas|Fecha de muerte|Fecha de diagnóstico|Fecha de recuperación|Tipo de recuperación|Pertenencia étnica|Nombre del grupo étnico|\n",
            "+--------------------+---+---------------------+----------------------------+-------------------+-------------------------+----------------+----+------------------------+----+----------------+------------------+------+-------------------+--------------------+----------+---------------------------+---------------+--------------------+---------------------+--------------------+------------------+-----------------------+\n",
            "|   11/3/2020 0:00:00|  4|     9/3/2020 0:00:00|                           5|          ANTIOQUIA|                     5001|        MEDELLIN|  55|                       1|   M|     Relacionado|              Casa|  Leve|               NULL|                NULL|Recuperado|           6/3/2020 0:00:00|           NULL|   11/3/2020 0:00:00|    26/3/2020 0:00:00|                 PCR|                 6|                   NULL|\n",
            "|   14/3/2020 0:00:00| 18|    11/3/2020 0:00:00|                          11|             BOGOTA|                    11001|          BOGOTA|  54|                       1|   M|       Importado|              Casa|  Leve|                724|              ESPAÑA|Recuperado|           7/3/2020 0:00:00|           NULL|   14/3/2020 0:00:00|     7/4/2020 0:00:00|              Tiempo|                 6|                   NULL|\n",
            "|   13/3/2020 0:00:00| 31|    12/3/2020 0:00:00|                          17|             CALDAS|                    17001|       MANIZALES|  65|                       1|   M|       Importado|              Casa|  Leve|                840|ESTADOS UNIDOS DE...|Recuperado|          12/3/2020 0:00:00|           NULL|   13/3/2020 0:00:00|    26/3/2020 0:00:00|                 PCR|                 6|                   NULL|\n",
            "|   15/3/2020 0:00:00| 32|    11/3/2020 0:00:00|                           5|          ANTIOQUIA|                     5001|        MEDELLIN|  55|                       1|   M|       Importado|              Casa|  Leve|                724|              ESPAÑA|Recuperado|          10/3/2020 0:00:00|           NULL|   15/3/2020 0:00:00|    25/3/2020 0:00:00|                 PCR|                 6|                   NULL|\n",
            "|   15/3/2020 0:00:00| 33|    13/3/2020 0:00:00|                          11|             BOGOTA|                    11001|          BOGOTA|  59|                       1|   M|       Importado|              Casa|  Leve|                724|              ESPAÑA|Recuperado|          12/3/2020 0:00:00|           NULL|   15/3/2020 0:00:00|    21/4/2020 0:00:00|                 PCR|                 6|                   NULL|\n",
            "|   14/3/2020 0:00:00| 35|    12/3/2020 0:00:00|                          11|             BOGOTA|                    11001|          BOGOTA|  54|                       1|   M|       Importado|              Casa|  Leve|                724|              ESPAÑA|Recuperado|          11/3/2020 0:00:00|           NULL|   14/3/2020 0:00:00|    26/3/2020 0:00:00|                 PCR|                 6|                   NULL|\n",
            "|   14/3/2020 0:00:00| 36|    13/3/2020 0:00:00|                          11|             BOGOTA|                    11001|          BOGOTA|  72|                       1|   M|       Importado|              Casa|  Leve|                840|ESTADOS UNIDOS DE...|Recuperado|          12/3/2020 0:00:00|           NULL|   14/3/2020 0:00:00|    27/3/2020 0:00:00|                 PCR|                 6|                   NULL|\n",
            "|   14/3/2020 0:00:00| 41|    14/3/2020 0:00:00|                          41|              HUILA|                    41001|           NEIVA|  79|                       1|   M|     Relacionado|              Casa|  Leve|               NULL|                NULL|Recuperado|                       NULL|           NULL|   15/3/2020 0:00:00|    28/3/2020 0:00:00|                 PCR|                 6|                   NULL|\n",
            "|   14/3/2020 0:00:00| 43|    14/3/2020 0:00:00|                          41|              HUILA|                    41001|           NEIVA|  71|                       1|   M|     Relacionado|              Casa|  Leve|               NULL|                NULL|Recuperado|           9/3/2020 0:00:00|           NULL|   15/3/2020 0:00:00|    24/3/2020 0:00:00|                 PCR|                 6|                   NULL|\n",
            "|   15/3/2020 0:00:00| 53|    14/3/2020 0:00:00|                          11|             BOGOTA|                    11001|          BOGOTA|  62|                       1|   M|       Importado|              Casa|  Leve|                724|              ESPAÑA|Recuperado|          12/3/2020 0:00:00|           NULL|   15/3/2020 0:00:00|    27/3/2020 0:00:00|                 PCR|                 6|                   NULL|\n",
            "|   16/3/2020 0:00:00| 65|    16/3/2020 0:00:00|                          11|             BOGOTA|                    11001|          BOGOTA|  64|                       1|   M|     Relacionado|              Casa|  Leve|               NULL|                NULL|Recuperado|          15/3/2020 0:00:00|           NULL|   16/3/2020 0:00:00|     1/4/2020 0:00:00|                 PCR|                 6|                   NULL|\n",
            "|   17/3/2020 0:00:00| 68|    16/3/2020 0:00:00|                          11|             BOGOTA|                    11001|          BOGOTA|  72|                       1|   M|       Importado|              Casa|  Leve|                724|              ESPAÑA|Recuperado|          12/3/2020 0:00:00|           NULL|   17/3/2020 0:00:00|    12/4/2020 0:00:00|                 PCR|                 6|                   NULL|\n",
            "|   17/3/2020 0:00:00| 71|    17/3/2020 0:00:00|                          54|    NORTE SANTANDER|                    54001|          CUCUTA|  54|                       1|   M|       Importado|              Casa|  Leve|                724|              ESPAÑA|Recuperado|          14/3/2020 0:00:00|           NULL|   17/3/2020 0:00:00|    25/4/2020 0:00:00|              Tiempo|                 6|                   NULL|\n",
            "|   17/3/2020 0:00:00| 82|    16/3/2020 0:00:00|                          76|              VALLE|                    76001|            CALI|  54|                       1|   M|       Importado|              Casa|  Leve|                724|              ESPAÑA|Recuperado|          14/3/2020 0:00:00|           NULL|   17/3/2020 0:00:00|    19/4/2020 0:00:00|                 PCR|                 6|                   NULL|\n",
            "|   17/3/2020 0:00:00| 83|    17/3/2020 0:00:00|                          76|              VALLE|                    76001|            CALI|  56|                       1|   M|       Importado|              Casa|  Leve|                840|ESTADOS UNIDOS DE...|Recuperado|          12/3/2020 0:00:00|           NULL|   17/3/2020 0:00:00|    26/3/2020 0:00:00|                 PCR|                 6|                   NULL|\n",
            "|   17/3/2020 0:00:00| 84|    16/3/2020 0:00:00|                          76|              VALLE|                    76001|            CALI|  51|                       1|   M|       Importado|              Casa|  Leve|                218|             ECUADOR|Recuperado|          10/3/2020 0:00:00|           NULL|   17/3/2020 0:00:00|    10/4/2020 0:00:00|                 PCR|                 6|                   NULL|\n",
            "|   18/3/2020 0:00:00| 94|    17/3/2020 0:00:00|                          11|             BOGOTA|                    11001|          BOGOTA|  53|                       1|   M|       Importado|              Casa|  Leve|                840|ESTADOS UNIDOS DE...|Recuperado|          10/3/2020 0:00:00|           NULL|   18/3/2020 0:00:00|    30/3/2020 0:00:00|                 PCR|                 6|                   NULL|\n",
            "|   18/3/2020 0:00:00| 95|    17/3/2020 0:00:00|                          11|             BOGOTA|                    11001|          BOGOTA|  69|                       1|   M|       Importado|              Casa|  Leve|                792|             TURQUÍA|Recuperado|          16/3/2020 0:00:00|           NULL|   18/3/2020 0:00:00|    28/3/2020 0:00:00|                 PCR|                 6|                   NULL|\n",
            "|   18/3/2020 0:00:00|102|    16/3/2020 0:00:00|                          66|          RISARALDA|                    66001|         PEREIRA|  79|                       1|   M|       Importado|              Casa|  Leve|                724|              ESPAÑA|Recuperado|           9/3/2020 0:00:00|           NULL|   18/3/2020 0:00:00|    24/3/2020 0:00:00|                 PCR|                 6|                   NULL|\n",
            "|   19/3/2020 0:00:00|107|    12/3/2020 0:00:00|                           5|          ANTIOQUIA|                     5001|        MEDELLIN|  56|                       1|   M|       Importado|              Casa|  Leve|                724|              ESPAÑA|Recuperado|          10/3/2020 0:00:00|           NULL|   19/3/2020 0:00:00|    30/3/2020 0:00:00|                 PCR|                 6|                   NULL|\n",
            "+--------------------+---+---------------------+----------------------------+-------------------+-------------------------+----------------+----+------------------------+----+----------------+------------------+------+-------------------+--------------------+----------+---------------------------+---------------+--------------------+---------------------+--------------------+------------------+-----------------------+\n",
            "only showing top 20 rows\n",
            "\n"
          ]
        }
      ]
    },
    {
      "cell_type": "code",
      "source": [
        "from pyspark.sql.functions import udf\n",
        "from pyspark.sql.types import StringType"
      ],
      "metadata": {
        "id": "0E39150lLOjJ"
      },
      "execution_count": 26,
      "outputs": []
    },
    {
      "cell_type": "code",
      "source": [
        "millenium_udf = udf(lambda edad: \"2do Milenio\" if edad <= 24 else \"1er Milenio\", StringType())"
      ],
      "metadata": {
        "id": "NEGCLhVKLOle"
      },
      "execution_count": 28,
      "outputs": []
    },
    {
      "cell_type": "code",
      "source": [
        "df.withColumn(\"Milenio nacimiento\", millenium_udf(df.Edad)).select('Edad', 'Milenio nacimiento').show(10, False)"
      ],
      "metadata": {
        "colab": {
          "base_uri": "https://localhost:8080/"
        },
        "id": "piYnefZqNNoI",
        "outputId": "5982b527-67e7-4fae-d920-761c0450194b"
      },
      "execution_count": 29,
      "outputs": [
        {
          "output_type": "stream",
          "name": "stdout",
          "text": [
            "+----+------------------+\n",
            "|Edad|Milenio nacimiento|\n",
            "+----+------------------+\n",
            "|19  |2do Milenio       |\n",
            "|34  |1er Milenio       |\n",
            "|50  |1er Milenio       |\n",
            "|55  |1er Milenio       |\n",
            "|25  |1er Milenio       |\n",
            "|27  |1er Milenio       |\n",
            "|85  |1er Milenio       |\n",
            "|22  |2do Milenio       |\n",
            "|28  |1er Milenio       |\n",
            "|36  |1er Milenio       |\n",
            "+----+------------------+\n",
            "only showing top 10 rows\n",
            "\n"
          ]
        }
      ]
    },
    {
      "cell_type": "code",
      "source": [
        "from pyspark.sql.functions import col, count\n",
        "\n",
        "top_10_casos_por_departamento = df.groupBy(\"Nombre departamento\").agg(count('*').alias('Casos')).orderBy(col('Casos').desc())\n",
        "top_10_casos_por_departamento.show(10)"
      ],
      "metadata": {
        "colab": {
          "base_uri": "https://localhost:8080/"
        },
        "id": "TpyuAeAENNto",
        "outputId": "688f6577-8fd6-42ec-8a42-3a8f4716745d"
      },
      "execution_count": 31,
      "outputs": [
        {
          "output_type": "stream",
          "name": "stdout",
          "text": [
            "+-------------------+-----+\n",
            "|Nombre departamento|Casos|\n",
            "+-------------------+-----+\n",
            "|             BOGOTA|30016|\n",
            "|       BARRANQUILLA|13065|\n",
            "|          ATLANTICO|10994|\n",
            "|              VALLE|10404|\n",
            "|          CARTAGENA| 8333|\n",
            "|          ANTIOQUIA| 4554|\n",
            "|             NARIÑO| 3520|\n",
            "|       CUNDINAMARCA| 2827|\n",
            "|           AMAZONAS| 2317|\n",
            "|              CHOCO| 1636|\n",
            "+-------------------+-----+\n",
            "only showing top 10 rows\n",
            "\n"
          ]
        }
      ]
    },
    {
      "cell_type": "code",
      "source": [
        "top_10_casos_por_ciudad = df.groupBy(\"Nombre municipio\").agg(count('*').alias('Casos')).orderBy(col('Casos').desc())\n",
        "top_10_casos_por_ciudad.show(10)"
      ],
      "metadata": {
        "colab": {
          "base_uri": "https://localhost:8080/"
        },
        "id": "aoY33HLcOVTe",
        "outputId": "3fd03ef5-6b03-4429-c6cc-8ac8eacd7294"
      },
      "execution_count": 32,
      "outputs": [
        {
          "output_type": "stream",
          "name": "stdout",
          "text": [
            "+----------------+-----+\n",
            "|Nombre municipio|Casos|\n",
            "+----------------+-----+\n",
            "|          BOGOTA|30016|\n",
            "|    BARRANQUILLA|13065|\n",
            "|       CARTAGENA| 8333|\n",
            "|            CALI| 7747|\n",
            "|         SOLEDAD| 6233|\n",
            "|         LETICIA| 2194|\n",
            "|        MEDELLIN| 2137|\n",
            "|          TUMACO| 1501|\n",
            "|    BUENAVENTURA| 1453|\n",
            "|          QUIBDO| 1367|\n",
            "+----------------+-----+\n",
            "only showing top 10 rows\n",
            "\n"
          ]
        }
      ]
    },
    {
      "cell_type": "code",
      "source": [
        "top_10_casos_por_fecha = df.groupBy(\"Fecha de diagnóstico\").agg(count('*').alias('Casos')).orderBy(col('Casos').desc())\n",
        "top_10_casos_por_fecha.show(10)"
      ],
      "metadata": {
        "colab": {
          "base_uri": "https://localhost:8080/"
        },
        "id": "z8a7WinPOVWR",
        "outputId": "6959f66e-a9a0-4d7c-8c24-7930fafef695"
      },
      "execution_count": 33,
      "outputs": [
        {
          "output_type": "stream",
          "name": "stdout",
          "text": [
            "+--------------------+-----+\n",
            "|Fecha de diagnóstico|Casos|\n",
            "+--------------------+-----+\n",
            "|   26/6/2020 0:00:00| 4390|\n",
            "|   27/6/2020 0:00:00| 4019|\n",
            "|   28/6/2020 0:00:00| 3580|\n",
            "|   25/6/2020 0:00:00| 3381|\n",
            "|   19/6/2020 0:00:00| 3053|\n",
            "|   18/6/2020 0:00:00| 3040|\n",
            "|   23/6/2020 0:00:00| 3031|\n",
            "|   22/6/2020 0:00:00| 2938|\n",
            "|   21/6/2020 0:00:00| 2781|\n",
            "|   24/6/2020 0:00:00| 2564|\n",
            "+--------------------+-----+\n",
            "only showing top 10 rows\n",
            "\n"
          ]
        }
      ]
    },
    {
      "cell_type": "code",
      "source": [
        "distribucion_casos_por_edad = df.groupBy(\"Edad\").agg(count('*').alias('Casos')).orderBy(col('Edad').desc())\n",
        "distribucion_casos_por_edad.show(distribucion_casos_por_edad.count())"
      ],
      "metadata": {
        "colab": {
          "base_uri": "https://localhost:8080/"
        },
        "id": "SkygmhwaOVZb",
        "outputId": "3829976c-e4ba-4226-9ded-e77ea235643a"
      },
      "execution_count": 35,
      "outputs": [
        {
          "output_type": "stream",
          "name": "stdout",
          "text": [
            "+----+-----+\n",
            "|Edad|Casos|\n",
            "+----+-----+\n",
            "| 104|    1|\n",
            "| 103|    2|\n",
            "| 102|    2|\n",
            "| 101|    1|\n",
            "| 100|   10|\n",
            "|  99|   11|\n",
            "|  98|   12|\n",
            "|  97|   14|\n",
            "|  96|   23|\n",
            "|  95|   32|\n",
            "|  94|   53|\n",
            "|  93|   51|\n",
            "|  92|   70|\n",
            "|  91|   91|\n",
            "|  90|  109|\n",
            "|  89|  117|\n",
            "|  88|  146|\n",
            "|  87|  184|\n",
            "|  86|  182|\n",
            "|  85|  224|\n",
            "|  84|  213|\n",
            "|  83|  262|\n",
            "|  82|  287|\n",
            "|  81|  275|\n",
            "|  80|  346|\n",
            "|  79|  368|\n",
            "|  78|  346|\n",
            "|  77|  348|\n",
            "|  76|  361|\n",
            "|  75|  397|\n",
            "|  74|  436|\n",
            "|  73|  479|\n",
            "|  72|  533|\n",
            "|  71|  501|\n",
            "|  70|  593|\n",
            "|  69|  583|\n",
            "|  68|  614|\n",
            "|  67|  688|\n",
            "|  66|  701|\n",
            "|  65|  736|\n",
            "|  64|  800|\n",
            "|  63|  867|\n",
            "|  62|  932|\n",
            "|  61|  965|\n",
            "|  60| 1069|\n",
            "|  59| 1085|\n",
            "|  58| 1155|\n",
            "|  57| 1252|\n",
            "|  56| 1325|\n",
            "|  55| 1291|\n",
            "|  54| 1290|\n",
            "|  53| 1307|\n",
            "|  52| 1402|\n",
            "|  51| 1327|\n",
            "|  50| 1423|\n",
            "|  49| 1467|\n",
            "|  48| 1475|\n",
            "|  47| 1401|\n",
            "|  46| 1398|\n",
            "|  45| 1492|\n",
            "|  44| 1488|\n",
            "|  43| 1654|\n",
            "|  42| 1620|\n",
            "|  41| 1783|\n",
            "|  40| 2050|\n",
            "|  39| 1985|\n",
            "|  38| 2098|\n",
            "|  37| 2132|\n",
            "|  36| 2175|\n",
            "|  35| 2292|\n",
            "|  34| 2310|\n",
            "|  33| 2371|\n",
            "|  32| 2362|\n",
            "|  31| 2569|\n",
            "|  30| 2735|\n",
            "|  29| 2611|\n",
            "|  28| 2540|\n",
            "|  27| 2494|\n",
            "|  26| 2436|\n",
            "|  25| 2335|\n",
            "|  24| 2214|\n",
            "|  23| 2041|\n",
            "|  22| 1879|\n",
            "|  21| 1713|\n",
            "|  20| 1674|\n",
            "|  19| 1567|\n",
            "|  18| 1160|\n",
            "|  17|  685|\n",
            "|  16|  600|\n",
            "|  15|  560|\n",
            "|  14|  580|\n",
            "|  13|  531|\n",
            "|  12|  562|\n",
            "|  11|  566|\n",
            "|  10|  530|\n",
            "|   9|  467|\n",
            "|   8|  461|\n",
            "|   7|  442|\n",
            "|   6|  431|\n",
            "|   5|  425|\n",
            "|   4|  373|\n",
            "|   3|  449|\n",
            "|   2|  440|\n",
            "|   1|  485|\n",
            "+----+-----+\n",
            "\n"
          ]
        }
      ]
    },
    {
      "cell_type": "code",
      "source": [
        "top_10_fallecidos_por_ciudad= df.filter(col(\"Estado\") == \"Fallecido\").groupBy('Nombre municipio').agg(count('*').alias('Fallecidos')).orderBy(col('Fallecidos').desc())\n",
        "top_10_fallecidos_por_ciudad.show(10)"
      ],
      "metadata": {
        "colab": {
          "base_uri": "https://localhost:8080/"
        },
        "id": "wpensrwhOVdB",
        "outputId": "34fb35dd-b8a4-48c4-c424-d95092fab24d"
      },
      "execution_count": 36,
      "outputs": [
        {
          "output_type": "stream",
          "name": "stdout",
          "text": [
            "+----------------+----------+\n",
            "|Nombre municipio|Fallecidos|\n",
            "+----------------+----------+\n",
            "|          BOGOTA|       962|\n",
            "|    BARRANQUILLA|       926|\n",
            "|         SOLEDAD|       406|\n",
            "|       CARTAGENA|       392|\n",
            "|            CALI|       365|\n",
            "|    BUENAVENTURA|       126|\n",
            "|       SINCELEJO|        90|\n",
            "|         LETICIA|        90|\n",
            "|         MALAMBO|        89|\n",
            "|     SANTA MARTA|        69|\n",
            "+----------------+----------+\n",
            "only showing top 10 rows\n",
            "\n"
          ]
        }
      ]
    },
    {
      "cell_type": "code",
      "source": [
        "df.createOrReplaceTempView(\"covid_info_tbl\")"
      ],
      "metadata": {
        "id": "e_mPsHdlPly2"
      },
      "execution_count": 37,
      "outputs": []
    },
    {
      "cell_type": "code",
      "source": [
        "from pyspark.sql.functions import col, count\n",
        "\n",
        "top_10_casos_por_departamento = spark.sql(\"\"\"\n",
        "    SELECT `Nombre departamento`, COUNT(*) AS Casos\n",
        "    FROM covid_info_tbl\n",
        "    GROUP BY `Nombre departamento`\n",
        "    ORDER BY Casos DESC\n",
        "\"\"\")\n",
        "top_10_casos_por_departamento.show(10)"
      ],
      "metadata": {
        "colab": {
          "base_uri": "https://localhost:8080/"
        },
        "id": "lWLHz42TPl1e",
        "outputId": "69767828-f62d-48ec-e51b-568bd49177fb"
      },
      "execution_count": 44,
      "outputs": [
        {
          "output_type": "stream",
          "name": "stdout",
          "text": [
            "+-------------------+-----+\n",
            "|Nombre departamento|Casos|\n",
            "+-------------------+-----+\n",
            "|             BOGOTA|30016|\n",
            "|       BARRANQUILLA|13065|\n",
            "|          ATLANTICO|10994|\n",
            "|              VALLE|10404|\n",
            "|          CARTAGENA| 8333|\n",
            "|          ANTIOQUIA| 4554|\n",
            "|             NARIÑO| 3520|\n",
            "|       CUNDINAMARCA| 2827|\n",
            "|           AMAZONAS| 2317|\n",
            "|              CHOCO| 1636|\n",
            "+-------------------+-----+\n",
            "only showing top 10 rows\n",
            "\n"
          ]
        }
      ]
    },
    {
      "cell_type": "code",
      "source": [
        "top_10_casos_por_ciudad = spark.sql(\"\"\"\n",
        "    SELECT `Nombre municipio`, COUNT(*) AS Casos\n",
        "    FROM covid_info_tbl\n",
        "    GROUP BY `Nombre municipio`\n",
        "    ORDER BY Casos DESC\n",
        "\"\"\")\n",
        "top_10_casos_por_ciudad.show(10)"
      ],
      "metadata": {
        "colab": {
          "base_uri": "https://localhost:8080/"
        },
        "id": "DhPFUK7jPl4E",
        "outputId": "cae870ba-f0b0-4b74-b976-0d12c1ed6924"
      },
      "execution_count": 45,
      "outputs": [
        {
          "output_type": "stream",
          "name": "stdout",
          "text": [
            "+----------------+-----+\n",
            "|Nombre municipio|Casos|\n",
            "+----------------+-----+\n",
            "|          BOGOTA|30016|\n",
            "|    BARRANQUILLA|13065|\n",
            "|       CARTAGENA| 8333|\n",
            "|            CALI| 7747|\n",
            "|         SOLEDAD| 6233|\n",
            "|         LETICIA| 2194|\n",
            "|        MEDELLIN| 2137|\n",
            "|          TUMACO| 1501|\n",
            "|    BUENAVENTURA| 1453|\n",
            "|          QUIBDO| 1367|\n",
            "+----------------+-----+\n",
            "only showing top 10 rows\n",
            "\n"
          ]
        }
      ]
    },
    {
      "cell_type": "code",
      "source": [
        "top_10_casos_por_fecha = spark.sql(\"\"\"\n",
        "    SELECT `Fecha de diagnóstico`, COUNT(*) AS Casos\n",
        "    FROM covid_info_tbl\n",
        "    GROUP BY `Fecha de diagnóstico`\n",
        "    ORDER BY Casos DESC\n",
        "\"\"\")\n",
        "top_10_casos_por_fecha.show(10)"
      ],
      "metadata": {
        "colab": {
          "base_uri": "https://localhost:8080/"
        },
        "id": "nks7m-etPl6Y",
        "outputId": "b68376a0-218f-44fe-dca6-b424a4fe60a4"
      },
      "execution_count": 46,
      "outputs": [
        {
          "output_type": "stream",
          "name": "stdout",
          "text": [
            "+--------------------+-----+\n",
            "|Fecha de diagnóstico|Casos|\n",
            "+--------------------+-----+\n",
            "|   26/6/2020 0:00:00| 4390|\n",
            "|   27/6/2020 0:00:00| 4019|\n",
            "|   28/6/2020 0:00:00| 3580|\n",
            "|   25/6/2020 0:00:00| 3381|\n",
            "|   19/6/2020 0:00:00| 3053|\n",
            "|   18/6/2020 0:00:00| 3040|\n",
            "|   23/6/2020 0:00:00| 3031|\n",
            "|   22/6/2020 0:00:00| 2938|\n",
            "|   21/6/2020 0:00:00| 2781|\n",
            "|   24/6/2020 0:00:00| 2564|\n",
            "+--------------------+-----+\n",
            "only showing top 10 rows\n",
            "\n"
          ]
        }
      ]
    },
    {
      "cell_type": "code",
      "source": [
        "top_10_casos_por_edad = spark.sql(\"\"\"\n",
        "    SELECT `Edad`, COUNT(*) AS Casos\n",
        "    FROM covid_info_tbl\n",
        "    GROUP BY `Edad`\n",
        "    ORDER BY Casos DESC\n",
        "\"\"\")\n",
        "top_10_casos_por_edad.show(10)"
      ],
      "metadata": {
        "colab": {
          "base_uri": "https://localhost:8080/"
        },
        "id": "QhTCVTkDPl9-",
        "outputId": "1512e04e-db7c-46ee-cb4f-ea4520b05539"
      },
      "execution_count": 47,
      "outputs": [
        {
          "output_type": "stream",
          "name": "stdout",
          "text": [
            "+----+-----+\n",
            "|Edad|Casos|\n",
            "+----+-----+\n",
            "|  30| 2735|\n",
            "|  29| 2611|\n",
            "|  31| 2569|\n",
            "|  28| 2540|\n",
            "|  27| 2494|\n",
            "|  26| 2436|\n",
            "|  33| 2371|\n",
            "|  32| 2362|\n",
            "|  25| 2335|\n",
            "|  34| 2310|\n",
            "+----+-----+\n",
            "only showing top 10 rows\n",
            "\n"
          ]
        }
      ]
    },
    {
      "cell_type": "code",
      "source": [
        "top_10_fallecidos_por_ciudad = spark.sql(\"\"\"\n",
        "    SELECT `Nombre municipio`, COUNT(*) AS Fallecidos\n",
        "    FROM covid_info_tbl\n",
        "    WHERE Estado = 'Fallecido'\n",
        "    GROUP BY `Nombre municipio`\n",
        "    ORDER BY Fallecidos DESC\n",
        "\"\"\")\n",
        "top_10_fallecidos_por_ciudad.show(10)"
      ],
      "metadata": {
        "colab": {
          "base_uri": "https://localhost:8080/"
        },
        "id": "_7GK6TmpOVf4",
        "outputId": "b0b008f0-d754-4876-c0d8-fa59a89e1cf3"
      },
      "execution_count": 48,
      "outputs": [
        {
          "output_type": "stream",
          "name": "stdout",
          "text": [
            "+----------------+----------+\n",
            "|Nombre municipio|Fallecidos|\n",
            "+----------------+----------+\n",
            "|          BOGOTA|       962|\n",
            "|    BARRANQUILLA|       926|\n",
            "|         SOLEDAD|       406|\n",
            "|       CARTAGENA|       392|\n",
            "|            CALI|       365|\n",
            "|    BUENAVENTURA|       126|\n",
            "|       SINCELEJO|        90|\n",
            "|         LETICIA|        90|\n",
            "|         MALAMBO|        89|\n",
            "|     SANTA MARTA|        69|\n",
            "+----------------+----------+\n",
            "only showing top 10 rows\n",
            "\n"
          ]
        }
      ]
    },
    {
      "cell_type": "code",
      "source": [
        "top_10_casos_por_departamento.toPandas().to_csv('/content/gdrive/MyDrive/mplopezs-tet/bigdata/top_10_casos_por_departamento.csv')"
      ],
      "metadata": {
        "id": "jRQxbLA_SlF0"
      },
      "execution_count": 52,
      "outputs": []
    },
    {
      "cell_type": "code",
      "source": [
        "top_10_casos_por_ciudad.toPandas().to_csv('/content/gdrive/MyDrive/mplopezs-tet/bigdata/top_10_casos_por_ciudad.csv')"
      ],
      "metadata": {
        "id": "AavfhsvdSlIA"
      },
      "execution_count": 53,
      "outputs": []
    },
    {
      "cell_type": "code",
      "source": [
        "top_10_casos_por_fecha.toPandas().to_csv('/content/gdrive/MyDrive/mplopezs-tet/bigdata/top_10_casos_por_fecha.csv')"
      ],
      "metadata": {
        "id": "CZR5wI6USlKJ"
      },
      "execution_count": 54,
      "outputs": []
    },
    {
      "cell_type": "code",
      "source": [
        "top_10_casos_por_edad.toPandas().to_csv('/content/gdrive/MyDrive/mplopezs-tet/bigdata/top_10_casos_por_edad.csv')"
      ],
      "metadata": {
        "id": "bwz15drrSlMc"
      },
      "execution_count": 55,
      "outputs": []
    },
    {
      "cell_type": "code",
      "source": [
        "top_10_fallecidos_por_ciudad.toPandas().to_csv('/content/gdrive/MyDrive/mplopezs-tet/bigdata/top_10_fallecidos_por_ciudad.csv')"
      ],
      "metadata": {
        "id": "M3p3wtRaSlTr"
      },
      "execution_count": 56,
      "outputs": []
    },
    {
      "cell_type": "code",
      "source": [
        "top_10_casos_por_departamento.write.format('csv').mode('overwrite').save('s3://mplopezs-tet/bigdata/top_10_casos_por_departamento.csv')"
      ],
      "metadata": {
        "id": "QpFbQa-0VwWN"
      },
      "execution_count": null,
      "outputs": []
    },
    {
      "cell_type": "code",
      "source": [
        "top_10_casos_por_ciudad.write.format('csv').mode('overwrite').save('s3://mplopezs-tet/bigdata/top_10_casos_por_ciudad.csv')"
      ],
      "metadata": {
        "id": "VGGK1YPVWJ0i"
      },
      "execution_count": null,
      "outputs": []
    },
    {
      "cell_type": "code",
      "source": [
        "top_10_casos_por_fecha.write.format('csv').mode('overwrite').save('s3://mplopezs-tet/bigdata/top_10_casos_por_fecha.csv')"
      ],
      "metadata": {
        "id": "dhJo8ql5WK43"
      },
      "execution_count": null,
      "outputs": []
    },
    {
      "cell_type": "code",
      "source": [
        "top_10_casos_por_edad.write.format('csv').mode('overwrite').save('s3://mplopezs-tet/bigdata/top_10_casos_por_edad.csv')"
      ],
      "metadata": {
        "id": "J2RjGHFxWLEJ"
      },
      "execution_count": null,
      "outputs": []
    }
  ]
}